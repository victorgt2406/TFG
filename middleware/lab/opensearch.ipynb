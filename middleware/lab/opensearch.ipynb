{
 "cells": [
  {
   "cell_type": "markdown",
   "metadata": {},
   "source": [
    "# Setup"
   ]
  },
  {
   "cell_type": "code",
   "execution_count": 1,
   "metadata": {},
   "outputs": [],
   "source": [
    "import sys\n",
    "sys.path.append(\"..\")\n",
    "import os\n",
    "os.chdir(\"./..\")\n",
    "from utils import get_opensearch_client\n",
    "os.chdir(\"./lab\")\n",
    "\n",
    "os_client = get_opensearch_client()"
   ]
  },
  {
   "cell_type": "markdown",
   "metadata": {},
   "source": [
    "# Opensearch Indices"
   ]
  },
  {
   "cell_type": "code",
   "execution_count": 7,
   "metadata": {},
   "outputs": [
    {
     "name": "stdout",
     "output_type": "stream",
     "text": [
      "test-index\n",
      ".opensearch-observability\n",
      ".plugins-ml-config\n",
      "security-auditlog-2024.03.17\n",
      ".opendistro_security\n"
     ]
    }
   ],
   "source": [
    "response = os_client.cat.indices(format='json')\n",
    "\n",
    "for index in response:\n",
    "    print(index['index'])\n"
   ]
  },
  {
   "cell_type": "markdown",
   "metadata": {},
   "source": [
    "# Get docs from a index"
   ]
  },
  {
   "cell_type": "code",
   "execution_count": 11,
   "metadata": {},
   "outputs": [
    {
     "name": "stdout",
     "output_type": "stream",
     "text": [
      "1 {'action': 'index', 'title': 'El barco velero', 'content': 'Content of document 1'}\n",
      "2 {'action': 'index', 'title': 'Hawai', 'content': 'Content of document 2'}\n",
      "3 {'action': 'index', 'title': 'Document 3 Updated', 'content': 'Updated content of document 3'}\n",
      "4 {'action': 'index', 'title': 'Document 4 Updated', 'content': 'Updated content of document 3'}\n"
     ]
    }
   ],
   "source": [
    "def get_all_docs(index_name):\n",
    "    # Execute the search query to get the first 1000 documents\n",
    "    response = os_client.search(\n",
    "        index=index_name,\n",
    "        body={\"query\": {\"match_all\": {}}},\n",
    "        size=1000\n",
    "    )\n",
    "\n",
    "    # Iterate through the hits and print document details\n",
    "    for doc in response['hits']['hits']:\n",
    "        print(doc['_id'], doc['_source'])\n",
    "\n",
    "# Example usage\n",
    "index_name = 'test-index'\n",
    "get_all_docs(index_name)"
   ]
  },
  {
   "cell_type": "code",
   "execution_count": 3,
   "metadata": {},
   "outputs": [
    {
     "name": "stdout",
     "output_type": "stream",
     "text": [
      "../data/Víctor Gutiérrez Tovar.pdf {'file_name': 'Víctor Gutiérrez Tovar', 'text': \"Víctor Gutiérrez Tovar\\nFinal year Software Engineering student, specializing in\\nData Engineering and Full Stack development.\\nTeamWork \\uf4cf\\nEngagement \\uf483\\nProfessionalism \\uf8f7\\n\\uf4e7+34 656593435\\n\\uf84cvictorgt2406@gmail.com\\n\\uf3eePortfolio\\n\\uf472victor-gutierrez-tovar\\n\\uf3edvictorgt2406\\nSkills\\nBackend\\nCloud\\nComputer science\\nData engineer\\nData processing\\nDatabases\\nDevOps\\nFrontend\\nInterpersonal skills\\nLanguage\\nProgramming languages\\nSearch engines\\nSoftware\\nWeb\\nExperiences\\nEducation\\nTechnical details. This Curriculum, along with the portfolio, is made with ReactJs using the Vite development service and hosted with GitHub actions. Bootstrap 5 is\\nbeing used for the styling of this website along with a CSS to customize it. For more details, visit the portfolio's GitHub.\\nGitHub/portfolio\\nInternship | Data Engineer\\nTabacalera\\n\\uf3e7Madrid, Spain\\n\\uf1e802/2024 - 03/2023\\nInternship as a Data Engineer, initiating a project with Microsoft's MsGraph tool for anomaly or risk detection.\\nLearned a lot about data collection with MsGraph, obtaining data mainly from Intune and Microsoft 365. Developed a daemon to\\ncollect these data and store them in the Elasticsearch and Opensearch search engines.\\nFor various reasons, Elasticsearch was chosen as the search engine to continue the project. Expanded my knowledge by creating\\nvisualizations of MsGraph data with Kibana and implemented watchers to alert possible risks based on the data.\\nSkills : Elasticsearch, Kibana, OpenSearch, OpenSearch Dashboard, Microsoft Graph, Python, Microservices,\\nHyper V | Windows Server\\nRide Operator\\nCedar Fair | Valleyfair\\n\\uf3e7Minnesota, USA\\n\\uf1e807/2023 - 09/2023\\nImproved oral expression and public interaction, as well as leadership in different scenarios. Recognized by iROC for outstanding\\npublic engagement and professionalism, awarded with the “Golden Thumb” prize.\\nSkills : Teamwork, Leadership, Public Interaction\\nU-tad University\\n\\uf3e7Madrid, Spain\\nFirst year of Software Engineering\\nHonor Roll in Introduction to Programming II\\n\\uf1e810/2020 - 05/2019\\nSecond year of Software Engineering\\n\\uf1e809/2020 - 05/2019\\nThird year of Software Engineering\\nHonor Roll in Distributed Systems\\n\\uf1e809/2022 - 05/2023\\nFourth year of Software Engineering\\n\\uf1e809/2023 - 06/2024\\nSan Gabriel Madrid High School\\n\\uf3e7Madrid, Spain\\nSecond year of High School (12th grade)\\n\\uf1e809/2019 - 06/2020\\nIdaho Falls High School\\n\\uf3e7Idaho, United States\\nFirst year of High School (11th grade)\\n\\uf1e808/2018 - 05/2019\\n\"}\n",
      "../data/textfile_example.txt {'file_name': 'textfile_example', 'text': 'Vamos añadir info a este documento de texto plano hello how are you'}\n"
     ]
    }
   ],
   "source": [
    "def get_all_docs(index_name):\n",
    "    # Execute the search query to get the first 1000 documents\n",
    "    response = os_client.search(\n",
    "        index=index_name,\n",
    "        body={\"query\": {\"match_all\": {}}},\n",
    "        size=1000\n",
    "    )\n",
    "\n",
    "    # Iterate through the hits and print document details\n",
    "    for doc in response['hits']['hits']:\n",
    "        print(doc['_id'], doc['_source'])\n",
    "\n",
    "# Example usage\n",
    "index_name = 'data'\n",
    "get_all_docs(index_name)"
   ]
  }
 ],
 "metadata": {
  "kernelspec": {
   "display_name": "tfg",
   "language": "python",
   "name": "python3"
  },
  "language_info": {
   "codemirror_mode": {
    "name": "ipython",
    "version": 3
   },
   "file_extension": ".py",
   "mimetype": "text/x-python",
   "name": "python",
   "nbconvert_exporter": "python",
   "pygments_lexer": "ipython3",
   "version": "3.12.0"
  }
 },
 "nbformat": 4,
 "nbformat_minor": 2
}
