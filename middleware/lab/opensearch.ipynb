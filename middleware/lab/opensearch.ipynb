{
 "cells": [
  {
   "cell_type": "markdown",
   "metadata": {},
   "source": [
    "# Setup"
   ]
  },
  {
   "cell_type": "code",
   "execution_count": 6,
   "metadata": {},
   "outputs": [],
   "source": [
    "import sys\n",
    "sys.path.append(\"..\")\n",
    "import os\n",
    "os.chdir(\"./..\")\n",
    "from utils import get_opensearch_client\n",
    "os.chdir(\"./lab\")\n",
    "\n",
    "os_client = get_opensearch_client()"
   ]
  },
  {
   "cell_type": "markdown",
   "metadata": {},
   "source": [
    "# Opensearch Indices"
   ]
  },
  {
   "cell_type": "code",
   "execution_count": 7,
   "metadata": {},
   "outputs": [
    {
     "name": "stdout",
     "output_type": "stream",
     "text": [
      "test-index\n",
      ".opensearch-observability\n",
      ".plugins-ml-config\n",
      "security-auditlog-2024.03.17\n",
      ".opendistro_security\n"
     ]
    }
   ],
   "source": [
    "response = os_client.cat.indices(format='json')\n",
    "\n",
    "for index in response:\n",
    "    print(index['index'])\n"
   ]
  },
  {
   "cell_type": "markdown",
   "metadata": {},
   "source": [
    "# Get docs from a index"
   ]
  },
  {
   "cell_type": "code",
   "execution_count": 11,
   "metadata": {},
   "outputs": [
    {
     "name": "stdout",
     "output_type": "stream",
     "text": [
      "1 {'action': 'index', 'title': 'El barco velero', 'content': 'Content of document 1'}\n",
      "2 {'action': 'index', 'title': 'Hawai', 'content': 'Content of document 2'}\n",
      "3 {'action': 'index', 'title': 'Document 3 Updated', 'content': 'Updated content of document 3'}\n",
      "4 {'action': 'index', 'title': 'Document 4 Updated', 'content': 'Updated content of document 3'}\n"
     ]
    }
   ],
   "source": [
    "def get_all_docs(index_name):\n",
    "    # Execute the search query to get the first 1000 documents\n",
    "    response = os_client.search(\n",
    "        index=index_name,\n",
    "        body={\"query\": {\"match_all\": {}}},\n",
    "        size=1000\n",
    "    )\n",
    "\n",
    "    # Iterate through the hits and print document details\n",
    "    for doc in response['hits']['hits']:\n",
    "        print(doc['_id'], doc['_source'])\n",
    "\n",
    "# Example usage\n",
    "index_name = 'test-index'\n",
    "get_all_docs(index_name)"
   ]
  }
 ],
 "metadata": {
  "kernelspec": {
   "display_name": "tfg",
   "language": "python",
   "name": "python3"
  },
  "language_info": {
   "codemirror_mode": {
    "name": "ipython",
    "version": 3
   },
   "file_extension": ".py",
   "mimetype": "text/x-python",
   "name": "python",
   "nbconvert_exporter": "python",
   "pygments_lexer": "ipython3",
   "version": "3.12.0"
  }
 },
 "nbformat": 4,
 "nbformat_minor": 2
}
