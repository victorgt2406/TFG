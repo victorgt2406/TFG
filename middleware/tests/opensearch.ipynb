{
 "cells": [
  {
   "cell_type": "markdown",
   "metadata": {},
   "source": [
    "# OpenSearch Notebook\n",
    "\n",
    "Notebook with the propuse to test and improve the openSearch queries to index and read data.\n",
    "\n",
    "Done by Víctor Gutiérrez Tovar"
   ]
  },
  {
   "cell_type": "markdown",
   "metadata": {},
   "source": [
    "# Setup"
   ]
  },
  {
   "cell_type": "code",
   "execution_count": 5,
   "metadata": {},
   "outputs": [],
   "source": [
    "import sys\n",
    "import json\n",
    "sys.path.append(\"..\")\n",
    "import os\n",
    "os.chdir(\"./..\")\n",
    "from utils import get_opensearch_client\n",
    "os.chdir(\"./lab\")\n",
    "\n",
    "os_client = get_opensearch_client()"
   ]
  },
  {
   "cell_type": "markdown",
   "metadata": {},
   "source": [
    "# Read or view Indexes"
   ]
  },
  {
   "cell_type": "code",
   "execution_count": 3,
   "metadata": {},
   "outputs": [
    {
     "name": "stdout",
     "output_type": "stream",
     "text": [
      "test-index\n",
      ".opensearch-observability\n",
      ".plugins-ml-config\n",
      "data\n",
      "security-auditlog-2024.03.26\n",
      "security-auditlog-2024.03.17\n",
      "security-auditlog-2024.03.25\n",
      ".opendistro_security\n"
     ]
    }
   ],
   "source": [
    "response = os_client.cat.indices(format=\"json\")\n",
    "\n",
    "for index in response:\n",
    "    print(index[\"index\"])\n"
   ]
  },
  {
   "cell_type": "markdown",
   "metadata": {},
   "source": [
    "# Read docs from a index"
   ]
  },
  {
   "cell_type": "markdown",
   "metadata": {},
   "source": [
    "## Test index"
   ]
  },
  {
   "cell_type": "code",
   "execution_count": 11,
   "metadata": {},
   "outputs": [
    {
     "name": "stdout",
     "output_type": "stream",
     "text": [
      "1 {'action': 'index', 'title': 'El barco velero', 'content': 'Content of document 1'}\n",
      "2 {'action': 'index', 'title': 'Hawai', 'content': 'Content of document 2'}\n",
      "3 {'action': 'index', 'title': 'Document 3 Updated', 'content': 'Updated content of document 3'}\n",
      "4 {'action': 'index', 'title': 'Document 4 Updated', 'content': 'Updated content of document 3'}\n"
     ]
    }
   ],
   "source": [
    "def get_all_docs(index_name):\n",
    "    # Execute the search query to get the first 1000 documents\n",
    "    response = os_client.search(\n",
    "        index=index_name,\n",
    "        body={\"query\": {\"match_all\": {}}},\n",
    "        size=1000\n",
    "    )\n",
    "\n",
    "    # Iterate through the hits and print document details\n",
    "    for doc in response[\"hits\"][\"hits\"]:\n",
    "        print(doc[\"_id\"], doc[\"_source\"])\n",
    "\n",
    "# Example usage\n",
    "index_name = \"test-index\"\n",
    "get_all_docs(index_name)"
   ]
  },
  {
   "cell_type": "markdown",
   "metadata": {},
   "source": [
    "## Data index (the default index)"
   ]
  },
  {
   "cell_type": "code",
   "execution_count": 23,
   "metadata": {},
   "outputs": [
    {
     "name": "stdout",
     "output_type": "stream",
     "text": [
      "../data/test.csv-2 {'id': '2', 'name': 'Ibuprofen', 'description': 'Used to relieve pain from various conditions such as headache, dental pain, menstrual cramps, muscle aches, or arthritis.', 'use_cases': 'Pain, inflammation, fever.', 'file_name': 'test'}\n",
      "../data/test.csv-3 {'id': '3', 'name': 'Amoxicillin', 'description': 'An antibiotic used to treat a number of bacterial infections.', 'use_cases': 'Ear infections, strep throat, pneumonia, urinary tract infections.', 'file_name': 'test'}\n",
      "../data/test.csv-4 {'id': '4', 'name': 'Cetirizine', 'description': 'An antihistamine used to relieve allergy symptoms such as watery eyes, runny nose, itching eyes/nose, sneezing, hives, and itching.', 'use_cases': 'Hay fever, allergies.', 'file_name': 'test'}\n",
      "../data/test.csv-5 {'id': '5', 'name': 'Metformin', 'description': 'A medication used to treat type 2 diabetes.', 'use_cases': 'Type 2 diabetes management.', 'file_name': 'test'}\n",
      "../data/test.csv-1 {'id': '1', 'name': 'Paracetamol', 'description': 'Pain reliever and a fever reducer. Jaja', 'use_cases': 'Mild to moderate pain, fever.', 'file_name': 'test'}\n"
     ]
    }
   ],
   "source": [
    "def get_all_docs(index_name):\n",
    "    # Execute the search query to get the first 1000 documents\n",
    "    response = os_client.search(\n",
    "        index=index_name,\n",
    "        body={\"query\": {\"match_all\": {}}},\n",
    "        size=1000,\n",
    "        ignore=[400, 404]\n",
    "    )\n",
    "    # print(response)\n",
    "    if(not \"error\" in response):\n",
    "        # Iterate through the hits and print document details\n",
    "        for doc in response[\"hits\"][\"hits\"]:\n",
    "            print(doc[\"_id\"], doc[\"_source\"])\n",
    "\n",
    "# Example usage\n",
    "index_name = \"data\"\n",
    "get_all_docs(index_name)"
   ]
  },
  {
   "cell_type": "markdown",
   "metadata": {},
   "source": [
    "# Delete index"
   ]
  },
  {
   "cell_type": "code",
   "execution_count": 6,
   "metadata": {},
   "outputs": [],
   "source": [
    "index_name = \"data\"\n",
    "\n",
    "response = os_client.indices.delete(index=index_name, ignore=[400, 404])"
   ]
  },
  {
   "cell_type": "markdown",
   "metadata": {},
   "source": [
    "# Search engine"
   ]
  },
  {
   "cell_type": "code",
   "execution_count": 7,
   "metadata": {},
   "outputs": [
    {
     "name": "stdout",
     "output_type": "stream",
     "text": [
      "id: ../data/test.csv-6, score: 1.9966218\n",
      "{\n",
      "  \"id\": \"6\",\n",
      "  \"name\": \"Acetaminophen\",\n",
      "  \"description\": \"Pain reliever and fever reducer.\",\n",
      "  \"use_cases\": \"Pain, fever.\",\n",
      "  \"file_name\": \"test\"\n",
      "}\n",
      "id: ../data/test.csv-1, score: 1.8773284\n",
      "{\n",
      "  \"id\": \"1\",\n",
      "  \"name\": \"Paracetamol\",\n",
      "  \"description\": \"Pain reliever and a fever reducer.\",\n",
      "  \"use_cases\": \"Mild to moderate pain, fever.\",\n",
      "  \"file_name\": \"test\"\n",
      "}\n",
      "id: ../data/test.csv-19, score: 1.8773284\n",
      "{\n",
      "  \"id\": \"19\",\n",
      "  \"name\": \"Gabapentin\",\n",
      "  \"description\": \"Used for nerve pain and seizures.\",\n",
      "  \"use_cases\": \"Nerve pain, seizures.\",\n",
      "  \"file_name\": \"test\"\n",
      "}\n",
      "id: ../data/test.csv-2, score: 1.6985979\n",
      "{\n",
      "  \"id\": \"2\",\n",
      "  \"name\": \"Ibuprofen\",\n",
      "  \"description\": \"Used to relieve pain from various conditions such as headache, dental pain, menstrual cramps, muscle aches, or arthritis.\",\n",
      "  \"use_cases\": \"Pain, inflammation, fever.\",\n",
      "  \"file_name\": \"test\"\n",
      "}\n",
      "id: ../data/test.csv-8, score: 1.6350331\n",
      "{\n",
      "  \"id\": \"8\",\n",
      "  \"name\": \"Naproxen\",\n",
      "  \"description\": \"An anti-inflammatory drug.\",\n",
      "  \"use_cases\": \"Pain, inflammation, fever.\",\n",
      "  \"file_name\": \"test\"\n",
      "}\n",
      "id: ../data/test.csv-7, score: 1.5919774\n",
      "{\n",
      "  \"id\": \"7\",\n",
      "  \"name\": \"Aspirin\",\n",
      "  \"description\": \"Used to treat pain, and reduce fever or inflammation.\",\n",
      "  \"use_cases\": \"Pain, inflammation, fever, blood thinning.\",\n",
      "  \"file_name\": \"test\"\n",
      "}\n"
     ]
    }
   ],
   "source": [
    "index_name = \"data\"\n",
    "\n",
    "body = {\n",
    "  \"query\": {\n",
    "    \"query_string\": {\n",
    "      \"query\": \"pain\",\n",
    "      \"default_field\": \"*\"\n",
    "    }\n",
    "  }\n",
    "}\n",
    "\n",
    "response = os_client.search(body, index=index_name)\n",
    "\n",
    "# Iterate through the hits and print document details\n",
    "for doc in response[\"hits\"][\"hits\"]:\n",
    "    print(f\"id: {doc[\"_id\"]}, score: {doc[\"_score\"]}\")\n",
    "    print(json.dumps(doc[\"_source\"], indent=2))\n"
   ]
  }
 ],
 "metadata": {
  "kernelspec": {
   "display_name": "tfg",
   "language": "python",
   "name": "python3"
  },
  "language_info": {
   "codemirror_mode": {
    "name": "ipython",
    "version": 3
   },
   "file_extension": ".py",
   "mimetype": "text/x-python",
   "name": "python",
   "nbconvert_exporter": "python",
   "pygments_lexer": "ipython3",
   "version": "3.12.0"
  }
 },
 "nbformat": 4,
 "nbformat_minor": 2
}
